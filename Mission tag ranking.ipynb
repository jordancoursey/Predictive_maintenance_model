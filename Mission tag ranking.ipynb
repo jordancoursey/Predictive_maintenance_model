{
 "cells": [
  {
   "cell_type": "code",
   "execution_count": 9,
   "metadata": {},
   "outputs": [],
   "source": [
    "import math\n",
    "import numpy as np\n",
    "import pandas as pd\n",
    "import csv\n",
    "import statistics as stat\n",
    "import matplotlib.pyplot as plt\n",
    "from sklearn.linear_model import LinearRegression\n",
    "from sklearn.linear_model import LogisticRegression\n",
    "from sklearn.utils import shuffle\n",
    "from sklearn.model_selection import train_test_split\n",
    "from sklearn.metrics import mean_squared_error\n",
    "from sklearn.metrics import r2_score"
   ]
  },
  {
   "cell_type": "code",
   "execution_count": 6,
   "metadata": {},
   "outputs": [],
   "source": [
    "df = pd.read_csv('Sharp_cleaned.csv')"
   ]
  },
  {
   "cell_type": "code",
   "execution_count": 7,
   "metadata": {},
   "outputs": [],
   "source": [
    "fields = df.drop(['LaunchDate', 'Buno', 'MC_x', 'MC_y', 'Pilot Rank'], axis=1).columns"
   ]
  },
  {
   "cell_type": "code",
   "execution_count": 10,
   "metadata": {},
   "outputs": [],
   "source": [
    "mcData = df[fields]\n",
    "mcData = shuffle(mcData)\n",
    "eighty = math.floor(len(mcData)*.8)\n",
    "\n",
    "XMC = mcData.drop('dam', axis=1)\n",
    "XMC_train = XMC[:eighty] \n",
    "XMC_test = XMC[eighty:]\n",
    "\n",
    "yMC = mcData['dam']\n",
    "yMC_train = yMC[:eighty]\n",
    "yMC_test = yMC[eighty:]\n",
    "regMC = LogisticRegression().fit(XMC_train, yMC_train)"
   ]
  },
  {
   "cell_type": "code",
   "execution_count": 11,
   "metadata": {},
   "outputs": [],
   "source": [
    "tagRanking = list(zip(df[fields], *regMC.coef_))\n",
    "tags = pd.DataFrame(tagRanking)"
   ]
  },
  {
   "cell_type": "code",
   "execution_count": 12,
   "metadata": {},
   "outputs": [],
   "source": [
    "def get_tags(t, n):\n",
    "    t = t.sort_values([1], ascending=False)\n",
    "    top_tags = list(t[0:n][0])\n",
    "    return top_tags"
   ]
  },
  {
   "cell_type": "code",
   "execution_count": 13,
   "metadata": {},
   "outputs": [],
   "source": [
    "# get top 30 tags\n",
    "top_tags = get_tags(tags, 30)"
   ]
  },
  {
   "cell_type": "markdown",
   "metadata": {},
   "source": [
    "## Results from logistic regression"
   ]
  },
  {
   "cell_type": "code",
   "execution_count": 14,
   "metadata": {},
   "outputs": [
    {
     "name": "stdout",
     "output_type": "stream",
     "text": [
      "0.14600740033420864\n",
      "-0.17136730153065827\n"
     ]
    }
   ],
   "source": [
    "MCpred = regMC.predict(XMC_test)\n",
    "\n",
    "print(mean_squared_error(yMC_test, MCpred))\n",
    "print(r2_score(yMC_test, MCpred))"
   ]
  },
  {
   "cell_type": "code",
   "execution_count": 15,
   "metadata": {},
   "outputs": [
    {
     "data": {
      "text/plain": [
       "0.14600740033420864"
      ]
     },
     "execution_count": 15,
     "metadata": {},
     "output_type": "execute_result"
    }
   ],
   "source": [
    "daysMC = 0\n",
    "for i, j in zip(MCpred, yMC_test):\n",
    "    daysMC += abs(i - j)\n",
    "avgDaysMC = daysMC/len(MCpred)\n",
    "avgDaysMC"
   ]
  },
  {
   "cell_type": "code",
   "execution_count": 16,
   "metadata": {},
   "outputs": [
    {
     "data": {
      "text/plain": [
       "(array([3.3508e+04, 0.0000e+00, 0.0000e+00, 0.0000e+00, 0.0000e+00,\n",
       "        0.0000e+00, 0.0000e+00, 0.0000e+00, 0.0000e+00, 4.0000e+00]),\n",
       " array([0. , 0.1, 0.2, 0.3, 0.4, 0.5, 0.6, 0.7, 0.8, 0.9, 1. ]),\n",
       " <a list of 10 Patch objects>)"
      ]
     },
     "execution_count": 16,
     "metadata": {},
     "output_type": "execute_result"
    },
    {
     "data": {
      "image/png": "[encoded data removed]",
      "text/plain": [
       "<Figure size 432x288 with 1 Axes>"
      ]
     },
     "metadata": {
      "needs_background": "light"
     },
     "output_type": "display_data"
    }
   ],
   "source": [
    "plt.hist(MCpred)"
   ]
  },
  {
   "cell_type": "code",
   "execution_count": 17,
   "metadata": {},
   "outputs": [
    {
     "data": {
      "text/plain": [
       "(array([28621.,     0.,     0.,     0.,     0.,     0.,     0.,     0.,\n",
       "            0.,  4891.]),\n",
       " array([0. , 0.1, 0.2, 0.3, 0.4, 0.5, 0.6, 0.7, 0.8, 0.9, 1. ]),\n",
       " <a list of 10 Patch objects>)"
      ]
     },
     "execution_count": 17,
     "metadata": {},
     "output_type": "execute_result"
    },
    {
     "data": {
      "image/png": "[encoded data removed]",
      "text/plain": [
       "<Figure size 432x288 with 1 Axes>"
      ]
     },
     "metadata": {
      "needs_background": "light"
     },
     "output_type": "display_data"
    }
   ],
   "source": [
    "plt.hist(yMC_test)"
   ]
  },
  {
   "cell_type": "markdown",
   "metadata": {},
   "source": [
    "## Cleaning up data"
   ]
  },
  {
   "cell_type": "code",
   "execution_count": 20,
   "metadata": {},
   "outputs": [],
   "source": [
    "# make nan field and grab fields needed\n",
    "flightDf = df\n",
    "[str(i) for i in top_tags]\n",
    "flight_fields = ['LaunchDate', 'Buno', 'TFT', 'Ship', 'Flights', 'Pilot Rank'] + top_tags + ['dam']\n",
    "flightDf = flightDf[flight_fields]\n"
   ]
  },
  {
   "cell_type": "markdown",
   "metadata": {},
   "source": [
    "### Only need for if using RNN and need null values"
   ]
  },
  {
   "cell_type": "code",
   "execution_count": 21,
   "metadata": {},
   "outputs": [],
   "source": [
    "ship and dam will have 0 for null values, therefore each value is shifted up \n",
    "\n",
    "a = np.zeros(shape=(len(flightDf), 1))\n",
    "flightDf['Nan'] = a\n",
    "\n",
    "\n",
    "flight = list()\n",
    "for index, row in flightDf.iterrows():\n",
    "    flight.append(row)\n",
    "    flight[-1]['Ship'] += 1\n",
    "    flight[-1]['dam'] += 1\n",
    "flightDf = pd.DataFrame(flight)\n",
    "flightDf.head()"
   ]
  },
  {
   "cell_type": "code",
   "execution_count": 22,
   "metadata": {},
   "outputs": [],
   "source": [
    "flightDf = flightDf.sort_values(['Buno', 'LaunchDate'])"
   ]
  },
  {
   "cell_type": "markdown",
   "metadata": {},
   "source": [
    "## Seperate sharp data into diff file for each Buno (optional)"
   ]
  },
  {
   "cell_type": "code",
   "execution_count": 23,
   "metadata": {},
   "outputs": [],
   "source": [
    "buno = set(flightDf['Buno'])\n",
    "for i in buno:\n",
    "    b = flightDf[flightDf['Buno'] == i]\n",
    "    b.to_csv(f'Flights/Flight{i}.csv', index=False)"
   ]
  },
  {
   "cell_type": "code",
   "execution_count": 24,
   "metadata": {},
   "outputs": [],
   "source": [
    "flightDf.to_csv(r'FlightCombined.csv', index=False)"
   ]
  },
  {
   "cell_type": "code",
   "execution_count": null,
   "metadata": {},
   "outputs": [],
   "source": []
  }
 ],
 "metadata": {
  "kernelspec": {
   "display_name": "Python 3",
   "language": "python",
   "name": "python3"
  },
  "language_info": {
   "codemirror_mode": {
    "name": "ipython",
    "version": 3
   },
   "file_extension": ".py",
   "mimetype": "text/x-python",
   "name": "python",
   "nbconvert_exporter": "python",
   "pygments_lexer": "ipython3",
   "version": "3.7.3"
  }
 },
 "nbformat": 4,
 "nbformat_minor": 2
}
