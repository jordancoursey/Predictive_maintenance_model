{
 "cells": [
  {
   "cell_type": "markdown",
   "metadata": {},
   "source": [
    "### Files Needed: \n",
    "TODO\n",
    "\n",
    "### Goal:\n",
    "find the relative rank ordering of the 'intensity' of a maintenance event.\n",
    "\n",
    "### Rationale: \n",
    "running any kind of analysis with 'categorical variables' is difficult because you must make a new column for each one. (Making a new column for a categorical variable is called 'one hot encoding.') because things like maintenance events or action tags aren't continuous numbers they cant be normally used in a regression (or other kinds of data analysis.) so a new column is made. \n",
    "\n",
    "The data that we deal with has a lot categorical variables (e.g. TMR mission tags, malfunction codes, action taken codes) so we cut those down by ranking the intensity of these variables and only including the most intense ones into our analysis. \n",
    "\n",
    "### Definitions:\n",
    "intensity: How many days after that event was completed (using 'Comp Date' column) did a plane 'degrade'\n",
    "\n",
    "degrade/degredation event: the day in which a plane went from FMC ->PMC/ PMC->NMC/ FMC->NMC.(e.g. if a plane on 8/18 was FMC and on 8/19 its reported as PMC then the degredation event is said to be on 8/19\n",
    "\n",
    "maintenance event: a single row of the decplate file - the two variables we are ranking are -malfunciton code"
   ]
  },
  {
   "cell_type": "markdown",
   "metadata": {},
   "source": [
    "# Add Dependencies"
   ]
  },
  {
   "cell_type": "code",
   "execution_count": null,
   "metadata": {},
   "outputs": [],
   "source": [
    "from sklearn import linear_model\n",
    "from datetime import datetime\n",
    "import numpy as np\n",
    "import operator"
   ]
  },
  {
   "cell_type": "markdown",
   "metadata": {},
   "source": [
    "# Load in Files"
   ]
  },
  {
   "cell_type": "code",
   "execution_count": null,
   "metadata": {},
   "outputs": [],
   "source": [
    "mc_status=pd.read_csv('/Users/jordancoursey/Desktop/Navy/Models/DailyBunoMC.csv')\n",
    "#maintDf = \n",
    "#this gives maintDf and mcstatus - the two files that get merged - the same names in which they are merged on top of"
   ]
  },
  {
   "cell_type": "markdown",
   "metadata": {},
   "source": [
    "# Clean Data"
   ]
  },
  {
   "cell_type": "code",
   "execution_count": null,
   "metadata": {},
   "outputs": [],
   "source": [
    "#high level: you're mergin the status of a plane on a given day with all of the maintenance that was logged for it on that day\n",
    "# the goal here is to associate maintenance done on a plane and how that is associated with the plane's MC status\n",
    "\n",
    "maintDf = maintDf.rename(columns={'Bu/SerNo': 'Buno', 'Rcvd Date': 'Date' })\n",
    "#converting to string types so they can be merged\n",
    "maintDf['Date'] = maintDf['Date'].astype(str)\n",
    "mc_status['Buno'] = mc_status['Buno'].astype(str)\n",
    "#TODO\n",
    "mc_merged = mc_status.merge(maintDf,how='left',on=['Buno','Date'])\n",
    "features = [ 'Date', 'Buno', 'MC_x','Maint Level', \n",
    "        'Type Maint Code', 'Trans Code', 'Malfunction Code',\n",
    "       'Action Taken', 'Position Code', 'Manhours',\n",
    "        'In Work Date', 'Comp Date',]\n",
    "mc_merged = mc_merged[features]\n",
    "#converting the order of the date format ( year, month, date) so they can be merged on top of one another\n",
    "mc_merged['Date'] = mc_merged['Date'].apply(lambda x : datetime.strptime(x, '%Y-%m-%d') )\n",
    "mc_merged['Date'] = mc_merged['Date'].apply(lambda x :'{0}/{1}/{2}'.format(x.month, x.day, x.year ) )\n",
    "#TODO\n",
    "completed_actions_df = mc_merged[['Comp Date', 'Action Taken','Buno']]\n",
    "completed_actions_df = completed_actions_df.dropna()\n",
    "completed_actions_df = completed_actions_df.rename(columns={'Comp Date': 'Date', 'Action Taken':'Action Completed'})\n",
    "mc_merged = mc_merged.merge(completed_actions_df, how='left',on=['Date','Buno'])\n"
   ]
  },
  {
   "cell_type": "code",
   "execution_count": null,
   "metadata": {},
   "outputs": [],
   "source": [
    "mc_down = mc_merged[['MC_x','Buno']]\n",
    "mc_down['Buno'] = mc_down['Buno'].astype(int)\n",
    "mc_down = mc_down.diff()\n",
    "# todo\n",
    "mc_down = mc_down.rename(columns = {'MC_x':'MC_diff', 'Buno':'Buno_diff'})\n",
    "mc_df = pd.concat( [mc_merged, mc_down],axis=1)\n",
    "mc_df = mc_df.rename(columns={'Action Completed': 'Action_Completed'})\n",
    "\n",
    "mc_df = mc_df[(~mc_df.Action_Completed.isnull())  | ( mc_df.MC_diff < 0.0) | (mc_df.Buno_diff !=0.0) ]\n",
    "#save date of degredation by index ( find it by finding the negative MC_diff) and then subtract the date from that\n",
    "\n",
    "mc_df['Date']= pd.to_datetime(mc_df['Date'],format='%m/%d/%Y') \n",
    "mc_df['Comp Date'] = pd.to_datetime(mc_df['Comp Date'],format='%m/%d/%Y')\n",
    "mc_df = mc_df.sort_values(by=['Buno', 'Comp Date','MC_diff'])"
   ]
  },
  {
   "cell_type": "markdown",
   "metadata": {},
   "source": [
    "# Feature Creation (days until degredation)"
   ]
  },
  {
   "cell_type": "code",
   "execution_count": null,
   "metadata": {},
   "outputs": [],
   "source": [
    "#Description: this will create an array of all the indices where a breakage event occured.\n",
    "#purpose: \n",
    "mc_df = mc_df.dropna(subset=['Comp Date'])\n",
    "mc_df = mc_df.reset_index(drop=True)\n",
    "degredation_indices=[]\n",
    "for index, row in mc_df.iterrows():\n",
    "     if row['MC_diff']<0:\n",
    "            degredation_indices.append(index)"
   ]
  },
  {
   "cell_type": "code",
   "execution_count": null,
   "metadata": {},
   "outputs": [],
   "source": [
    "#Description: this creates a dictionary of the indices where a new Buno starts in the dataframe\n",
    "#Purpose: used to skip to the first instance of a buno in tandem with the breakage occurences. so that whne you're iterating through\n",
    "# the dataframe you dont start counting the days until breakage from a different buno. \n",
    "buno_indices =[]\n",
    "for index, row in mc_df.iterrows():\n",
    "    if row['Buno_diff'] !=0:\n",
    "        buno_indices.append(index)\n",
    "bunos = list(set(mc_df['Buno']))\n",
    "buno_dict = dict(zip(bunos, buno_indices))"
   ]
  },
  {
   "cell_type": "markdown",
   "metadata": {},
   "source": [
    "Potentially stop the cell below within 30 minutes of running - not strictly necessary to run through entire maintenance history if it takes too long"
   ]
  },
  {
   "cell_type": "code",
   "execution_count": null,
   "metadata": {},
   "outputs": [],
   "source": [
    "#description: Adds in the date at which a plane degrades after a particular maintenance event\n",
    "#purpose: used later to calculate total days before degredation\n",
    "#notes: this code takes awhie to run. because these tags are somewhat optional its ok to stop it in hte middle.\n",
    "#as a general rule of thumb the longer \n",
    "mc_df['Days_until_degredation'] = 0\n",
    "mc_df['Degredation_date'] = 0\n",
    "\n",
    "deg_i = 0\n",
    "deg_buno = mc_df.iloc[degredation_indices[deg_i]]['Buno']\n",
    "deg_date = mc_df.iloc[degredation_indices[deg_i]]['Comp Date']\n",
    "\n",
    "for index, row in mc_df.iterrows():\n",
    "    if deg_i == len(degredation_indices)-1:\n",
    "        break\n",
    "    \n",
    "    if mc_df.iloc[index]['Comp Date'] > deg_date or index > degredation_indices[deg_i]:\n",
    "        index = degredation_indices[deg_i]+1\n",
    "        deg_i +=1\n",
    "        deg_date = mc_df.iloc[degredation_indices[deg_i]]['Comp Date']\n",
    "        deg_buno = mc_df.iloc[degredation_indices[deg_i]]['Buno']\n",
    "        \n",
    "        \n",
    "        if mc_df.iloc[index]['Buno'] != deg_buno:\n",
    "            \n",
    "            index = buno_dict[deg_buno]    \n",
    "        continue\n",
    "    \n",
    "    mc_df.at[index, 'Degredation_date'] = deg_date"
   ]
  },
  {
   "cell_type": "code",
   "execution_count": 2,
   "metadata": {},
   "outputs": [],
   "source": [
    "# to account for if you stopped the code above halfway through it'll get rid of all the rows that didn't finish\n",
    "mc_df_temporary= mc_df_temporary[ mc_df_temporary.Degredation_date != 0]\n"
   ]
  },
  {
   "cell_type": "code",
   "execution_count": null,
   "metadata": {},
   "outputs": [],
   "source": [
    "#optional checkpoint\n",
    "#optional to save file in the event that it crashes or you want to reuse the code. \n",
    "#mc_df_temporary.to_csv(path_or_buf='/Users/jordancoursey/Desktop/Navy/Data/Decplate/maintenance_tags.csv')\n",
    "#mc_df_temporary = pd.read_csv('/Users/jordancoursey/Desktop/Navy/Data/Decplate/maintenance_tags.csv')"
   ]
  },
  {
   "cell_type": "code",
   "execution_count": null,
   "metadata": {},
   "outputs": [],
   "source": [
    "mc_df_temporary['Comp Date'] = pd.to_datetime(mc_df_temporary['Comp Date'])\n",
    "mc_df_temporary['Degredation_date'] = mc_df_temporary['Degredation_date'].str[:10]\n",
    "mc_df_temporary['Degredation_date'] = pd.to_datetime(mc_df_temporary['Degredation_date'])\n",
    "mc_df_temporary['Days_until_degredation'] = mc_df_temporary['Comp Date'] - mc_df_temporary['Degredation_date']"
   ]
  },
  {
   "cell_type": "markdown",
   "metadata": {},
   "source": [
    "# Regression"
   ]
  },
  {
   "cell_type": "code",
   "execution_count": null,
   "metadata": {},
   "outputs": [],
   "source": [
    "regression_features= ['Malfunction Code', 'Days_until_degredation']\n",
    "mc_regression = mc_df_temporary[regression_features].copy(deep=True)\n",
    "# mc_regression.dropna(inplace=True)\n",
    "\n",
    "mc_regression = pd.get_dummies(mc_regression, columns=['Malfunction Code'])\n",
    "X = mc_regression.iloc[:, mc_regression.columns != 'Days_until_degredation'].copy(deep=True)\n",
    "y = mc_regression.iloc[:, mc_regression.columns == 'Days_until_degredation'].copy(deep=True)"
   ]
  },
  {
   "cell_type": "code",
   "execution_count": null,
   "metadata": {},
   "outputs": [],
   "source": [
    "#spits out list of \n",
    "code_model = linear_model.LinearRegression()\n",
    "code_model.fit(X, y)\n",
    "coefficients = code_model.coef_\n",
    "coefficient_names = list(X.columns)\n",
    "coefficient_dict = dict(zip( coefficient_names, coefficients[0]))"
   ]
  },
  {
   "cell_type": "code",
   "execution_count": null,
   "metadata": {},
   "outputs": [],
   "source": [
    "#optional add the n top tags below \n",
    "sorted_d = sorted(coefficient_dict.items(), key=operator.itemgetter(1))\n",
    "sorted_d[-11:]"
   ]
  }
 ],
 "metadata": {
  "kernelspec": {
   "display_name": "Python 3",
   "language": "python",
   "name": "python3"
  },
  "language_info": {
   "codemirror_mode": {
    "name": "ipython",
    "version": 3
   },
   "file_extension": ".py",
   "mimetype": "text/x-python",
   "name": "python",
   "nbconvert_exporter": "python",
   "pygments_lexer": "ipython3",
   "version": "3.7.3"
  }
 },
 "nbformat": 4,
 "nbformat_minor": 2
}
