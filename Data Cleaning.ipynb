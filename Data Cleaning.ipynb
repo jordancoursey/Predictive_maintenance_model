{
 "cells": [
  {
   "cell_type": "code",
   "execution_count": 1,
   "metadata": {},
   "outputs": [],
   "source": [
    "import math\n",
    "import numpy as np\n",
    "import pandas as pd\n",
    "import csv\n",
    "import statistics as stat\n",
    "import matplotlib.pyplot as plt\n",
    "import os\n",
    "import glob\n",
    "from datetime import date\n",
    "from datetime import datetime\n",
    "from datetime import timedelta  "
   ]
  },
  {
   "cell_type": "markdown",
   "metadata": {},
   "source": [
    "#  Pt 1 - Date Generator "
   ]
  },
  {
   "cell_type": "code",
   "execution_count": 2,
   "metadata": {},
   "outputs": [],
   "source": [
    "# input start and end date for the input files\n",
    "start_date = '2009-01-01'\n",
    "end_date   = '2017-01-01'\n",
    "\n",
    "s_date = datetime.strptime(start_date, '%Y-%m-%d')\n",
    "e_date = datetime.strptime(end_date, '%Y-%m-%d')\n",
    "dates = pd.date_range(s_date, e_date)"
   ]
  },
  {
   "cell_type": "code",
   "execution_count": 12,
   "metadata": {},
   "outputs": [],
   "source": [
    "# currently using Greg's files to get a set of all buno's that are FA-18, but can be easily replaced by any other file\n",
    "buno = np.load('bunos.npy')\n",
    "bunoDF = pd.DataFrame(buno)\n",
    "bunoDF.rename(columns={0:'BUNO'},inplace=True)"
   ]
  },
  {
   "cell_type": "code",
   "execution_count": 4,
   "metadata": {},
   "outputs": [],
   "source": [
    "# create daily entries for within start and end date for each Buno\n",
    "df = list()\n",
    "for b in bunoDf:\n",
    "    for d in dates:\n",
    "        df.append([d, b])\n",
    "df = pd.DataFrame(df, columns=['Date', 'Buno'])"
   ]
  },
  {
   "cell_type": "code",
   "execution_count": 5,
   "metadata": {},
   "outputs": [],
   "source": [
    "# save to csv file\n",
    "df.to_csv(r'dates.csv', index=False)"
   ]
  },
  {
   "cell_type": "markdown",
   "metadata": {},
   "source": [
    "# Pt 2 - Maintenance Wrangling"
   ]
  },
  {
   "cell_type": "code",
   "execution_count": 25,
   "metadata": {},
   "outputs": [
    {
     "data": {
      "text/plain": [
       "['./maint_data/test.txt']"
      ]
     },
     "execution_count": 25,
     "metadata": {},
     "output_type": "execute_result"
    }
   ],
   "source": [
    "list(glob.iglob(os.path.join('./maint_data', '*.txt')))"
   ]
  },
  {
   "cell_type": "code",
   "execution_count": null,
   "metadata": {},
   "outputs": [],
   "source": []
  },
  {
   "cell_type": "code",
   "execution_count": 30,
   "metadata": {},
   "outputs": [],
   "source": [
    "#import all maintenance files\n",
    "#read \n",
    "#must be CSV\n",
    "#input: list of files to be read in \n",
    "def read_in_files(file_type):\n",
    "    if file_type == 'maintenance':\n",
    "        directory = 'maint_data'\n",
    "    elif file_type == 'sharp':\n",
    "        directory = 'sharp_data'\n",
    "    else:\n",
    "        return 'Invalid file type: must be maintenance or sharp'\n",
    "    \n",
    "    file_names = list(glob.iglob(os.path.join('./'+directory, '*.csv')))\n",
    "    frames=[]\n",
    "    for file_name in file_names:\n",
    "        frames.append(pd.read_csv(open(file_name, 'r', errors='ignore'), dtype={'Bu/SerNo': str, 'Position Code': str}, low_memory=False))\n",
    "\n",
    "    maintDf = pd.concat(frames)\n",
    "    return maintDf\n",
    "\n",
    "\n",
    "maintDf = read_in_files('maintenance')"
   ]
  },
  {
   "cell_type": "code",
   "execution_count": 7,
   "metadata": {},
   "outputs": [],
   "source": [
    "# grab pertinant columns\n",
    "cols = ['Bu/SerNo', 'Maint Level', 'Type Maint Code', 'Action Taken', 'Manhours', 'Rcvd Date', 'Rmvd PartNo', 'Rcvd EOC Code']"
   ]
  },
  {
   "cell_type": "markdown",
   "metadata": {},
   "source": [
    "## <span style=\"color:#808080\">Derive MC Status  </span>"
   ]
  },
  {
   "cell_type": "code",
   "execution_count": 8,
   "metadata": {},
   "outputs": [],
   "source": [
    "# method for derviving mc status based off EOC code and maintanence level\n",
    "# 2 is FMC\n",
    "# 1 is PMC\n",
    "# 0 is NMC\n",
    "\n",
    "def deriveMC(df):\n",
    "    mcStatus = list()\n",
    "    for index, row in df.iterrows():\n",
    "        AtoB = list(map(chr, range(ord('A'), ord('B')+1)))\n",
    "        CtoX = list(map(chr, range(ord('C'), ord('X')+1)))\n",
    "        YtoZ = list(map(chr, range(ord('Y'), ord('Z')+1)))\n",
    "        code = row['Rcvd EOC Code']\n",
    "        if(pd.isnull(code)):\n",
    "            mcStatus.append(2)\n",
    "            continue\n",
    "            \n",
    "        code = str(code)\n",
    "        code = code.upper()\n",
    "        code = code.strip()\n",
    "\n",
    "        if (code == \"\" or code in AtoB) and row['Maint Level'] != 3:\n",
    "            mcStatus.append(2)\n",
    "        elif code in CtoX:\n",
    "            mcStatus.append(1)\n",
    "        elif code in YtoZ or row['Maint Level'] == 3:\n",
    "            mcStatus.append(0)\n",
    "        else:\n",
    "            print('Error on row %d' % index)\n",
    "    return mcStatus\n",
    "\n",
    "# change date to pandas timestamp\n",
    "def changeDate(df):\n",
    "    date = list()\n",
    "    for index, row in df.iterrows():\n",
    "        date.append(pd.Timestamp(row['Rcvd Date']))\n",
    "    return date\n",
    "\n",
    "# if data has multiple entries and different MC status, pick the lowest one\n",
    "def diffSameDayEntry(df):\n",
    "    prev = df.iloc[0]\n",
    "    mc = list()\n",
    "    for index, row in df.iterrows():\n",
    "        mc.append(row['MC'])\n",
    "        if index == 0:\n",
    "            continue\n",
    "        if prev['Buno'] == row['Buno'] and prev['Date'] == row['Date']:\n",
    "            lowMC = min(mc[-2], mc[-1])\n",
    "            mc[-2] = lowMC\n",
    "            mc[-1] = lowMC\n",
    "        prev = row\n",
    "    return mc"
   ]
  },
  {
   "cell_type": "code",
   "execution_count": 9,
   "metadata": {},
   "outputs": [],
   "source": [
    "maintDf['MC'] = deriveMC(maintDf)\n",
    "maintDf['Rcvd Date'] = changeDate(maintDf)\n",
    "cols += ['MC']\n",
    "\n",
    "# use data that is only unscheduled\n",
    "mcStatus = maintDf[maintDf['Type Maint Code'] == 'B']"
   ]
  },
  {
   "cell_type": "markdown",
   "metadata": {},
   "source": [
    "## <span style=\"color:#808080\">Drop all duplicate entries & set lowest mc status for different mc entries </span>"
   ]
  },
  {
   "cell_type": "code",
   "execution_count": 10,
   "metadata": {},
   "outputs": [
    {
     "data": {
      "text/plain": [
       "594644"
      ]
     },
     "execution_count": 10,
     "metadata": {},
     "output_type": "execute_result"
    }
   ],
   "source": [
    "mcStatus = mcStatus[['Bu/SerNo', 'Rcvd Date', 'MC']].drop_duplicates()\n",
    "mcStatus.rename(columns={'Bu/SerNo': 'Buno', 'Rcvd Date': 'Date'}, inplace=True)\n",
    "mcStatus = mcStatus.sort_values(['Buno', 'Date'], ascending=[True, True])\n",
    "mcStatus = mcStatus.reset_index()\n",
    "mcStatus = mcStatus.drop(columns=['index'])\n",
    "\n",
    "# dropping all same day entries that have different mc status\n",
    "mcStatus['MC'] = diffSameDayEntry(mcStatus)\n",
    "mcStatus = mcStatus.drop_duplicates()\n",
    "mcStatus['MC'] = diffSameDayEntry(mcStatus)\n",
    "mcStatus = mcStatus.drop_duplicates()\n",
    "len(mcStatus)"
   ]
  },
  {
   "cell_type": "code",
   "execution_count": 11,
   "metadata": {},
   "outputs": [],
   "source": [
    "# save to csv file\n",
    "mcStatus.to_csv(r'BunoMC.csv', index=False)"
   ]
  },
  {
   "cell_type": "markdown",
   "metadata": {},
   "source": [
    "# Pt 3 - MC Date Merger"
   ]
  },
  {
   "cell_type": "code",
   "execution_count": 12,
   "metadata": {},
   "outputs": [
    {
     "name": "stderr",
     "output_type": "stream",
     "text": [
      "C:\\Users\\lawsh\\Anaconda3\\lib\\site-packages\\IPython\\core\\interactiveshell.py:2785: DtypeWarning: Columns (0) have mixed types. Specify dtype option on import or set low_memory=False.\n",
      "  interactivity=interactivity, compiler=compiler, result=result)\n"
     ]
    }
   ],
   "source": [
    "dfEvent = pd.read_csv('BunoMC.csv')\n",
    "dfEvent = dfEvent[['Buno', 'Date', 'MC']]\n",
    "\n",
    "dates = pd.read_csv('Dates.csv')"
   ]
  },
  {
   "cell_type": "markdown",
   "metadata": {},
   "source": [
    "## <span style=\"color:#808080\">Change dateframe to pandas timeframe to merge </span>"
   ]
  },
  {
   "cell_type": "code",
   "execution_count": 13,
   "metadata": {},
   "outputs": [],
   "source": [
    "def changeDate(df):\n",
    "    d = list()\n",
    "    for i in df['Date']:\n",
    "        d.append(pd.Timestamp(i))\n",
    "    return d\n",
    "def changeBuno(df):\n",
    "    b = list()\n",
    "    for i in df['Buno']:\n",
    "        b.append(str(i))\n",
    "    return b"
   ]
  },
  {
   "cell_type": "code",
   "execution_count": 14,
   "metadata": {},
   "outputs": [],
   "source": [
    "dfEvent['Date'] = changeDate(dfEvent)\n",
    "dates['Date'] = changeDate(dates)\n",
    "dates['Buno'] = changeBuno(dates)\n",
    "\n",
    "df = pd.merge(dates, dfEvent, on=['Buno', 'Date'], how='left')"
   ]
  },
  {
   "cell_type": "markdown",
   "metadata": {},
   "source": [
    "## <span style=\"color:#808080\">Populate daily entries with MC status  </span>"
   ]
  },
  {
   "cell_type": "code",
   "execution_count": 15,
   "metadata": {},
   "outputs": [],
   "source": [
    "event = []\n",
    "event.append(df['MC'].iloc[0])\n",
    "prev = df['Buno'].iloc[0]\n",
    "for index, row in df.iterrows():\n",
    "    if index == 0:\n",
    "        continue\n",
    "    event.append(row['MC'])\n",
    "    if pd.isnull(row['MC']) and prev == row['Buno']:\n",
    "        event[-1] = event[-2]\n",
    "    prev = row['Buno']\n",
    "df['MC'] = event\n",
    "df = df.dropna()\n",
    "df = df.reset_index()\n",
    "df = df.drop(['index'], axis=1)"
   ]
  },
  {
   "cell_type": "code",
   "execution_count": 16,
   "metadata": {},
   "outputs": [],
   "source": [
    "df.to_csv(r'DailyBunoMC.csv', index=False)"
   ]
  },
  {
   "cell_type": "markdown",
   "metadata": {},
   "source": [
    "# Pt 4 - Sharp Analysis"
   ]
  },
  {
   "cell_type": "code",
   "execution_count": 17,
   "metadata": {},
   "outputs": [],
   "source": [
    "sharpDf = pd.read_csv('/sharp_data/sharp.csv', low_memory=False)"
   ]
  },
  {
   "cell_type": "markdown",
   "metadata": {},
   "source": [
    "## <span style=\"color:#808080\">Grab only important columns</span>"
   ]
  },
  {
   "cell_type": "code",
   "execution_count": 18,
   "metadata": {},
   "outputs": [],
   "source": [
    "c = ['LaunchDate', 'Buno','TFT', 'Land ICAO', 'Pilot Rank']\n",
    "tmr = list()\n",
    "for i in range(1,12):\n",
    "    tmr.append('TMR%d' % i)\n",
    "c += tmr\n",
    "sharpDf = sharpDf.sort_values(['Buno', 'LaunchDate']).reset_index()[c]"
   ]
  },
  {
   "cell_type": "markdown",
   "metadata": {},
   "source": [
    "## <span style=\"color:#808080\">See if plane landed on ship  </span>"
   ]
  },
  {
   "cell_type": "code",
   "execution_count": 19,
   "metadata": {},
   "outputs": [],
   "source": [
    "ship = list()\n",
    "for index, row in sharpDf.iterrows():\n",
    "    if 'USS' in row['Land ICAO']:\n",
    "        ship.append(1)\n",
    "    else:\n",
    "        ship.append(0)\n",
    "sharpDf['Ship'] = ship\n",
    "sharpDf = sharpDf.drop(columns=['Land ICAO'])"
   ]
  },
  {
   "cell_type": "markdown",
   "metadata": {},
   "source": [
    "## <span style=\"color:#808080\">Calculate number of flights in the same day </span>"
   ]
  },
  {
   "cell_type": "code",
   "execution_count": 20,
   "metadata": {},
   "outputs": [],
   "source": [
    "# make list that calculates total flights flown in that day\n",
    "flights = list()\n",
    "prev = sharpDf.iloc[0]\n",
    "counter = 1\n",
    "for index, row in sharpDf.iterrows():\n",
    "    if index == 0:\n",
    "        flights.append(counter)\n",
    "        continue\n",
    "    if prev['Buno'] == row['Buno'] and prev['LaunchDate'] == row['LaunchDate']:\n",
    "        counter += 1\n",
    "    else:\n",
    "        counter = 1\n",
    "    flights.append(counter)\n",
    "    prev = row\n",
    "\n",
    "# make each day have the same total flights flown\n",
    "flights.reverse()\n",
    "sharpDf = sharpDf.iloc[::-1].reset_index()\n",
    "\n",
    "prev = sharpDf.iloc[0]\n",
    "for index, row in sharpDf.iterrows():\n",
    "    if index == 0:\n",
    "        continue\n",
    "    if prev['Buno'] == row['Buno'] and prev['LaunchDate'] == row['LaunchDate']:\n",
    "        flights[index] = flights[index-1]\n",
    "    prev = row\n",
    "\n",
    "# add into sharpDf\n",
    "flights.reverse()\n",
    "sharpDf = sharpDf.iloc[::-1].reset_index()\n",
    "sharpDf['Flights'] = flights\n",
    "c += ['Flights']"
   ]
  },
  {
   "cell_type": "markdown",
   "metadata": {},
   "source": [
    "## <span style=\"color:#808080\"> One Hot Encode  </span>"
   ]
  },
  {
   "cell_type": "code",
   "execution_count": 21,
   "metadata": {},
   "outputs": [],
   "source": [
    "# create one hot for all tmr tags\n",
    "one_hot = pd.get_dummies(sharpDf['TMR1'])\n",
    "for index, row in sharpDf.iterrows():\n",
    "    for i in range(2,12):\n",
    "        tag = sharpDf['TMR%d' % i].iloc[index]\n",
    "        if pd.isnull(tag):\n",
    "            break\n",
    "        one_hot.at[index, tag] = one_hot[tag].iloc[index] + 1\n",
    "\n",
    "# combine all same day tags and add up total flight time\n",
    "prev = sharpDf.iloc[0]\n",
    "FT = list()\n",
    "for index, row in sharpDf.iterrows():\n",
    "    if index == 0:\n",
    "        FT.append(row['TFT'])\n",
    "        continue\n",
    "    if prev['Buno'] == row['Buno'] and prev['LaunchDate'] == row['LaunchDate']:\n",
    "        for i in range(1,12):\n",
    "            tag = sharpDf['TMR%d' % i].iloc[index-1]\n",
    "            if pd.isnull(tag):\n",
    "                break\n",
    "            one_hot.at[index, tag] += one_hot[tag].iloc[index-1]\n",
    "        FT.append(FT[-1] + sharpDf['TFT'].iloc[index])\n",
    "    else:\n",
    "        FT.append(sharpDf['TFT'].iloc[index])\n",
    "    prev = row\n",
    "\n",
    "\n",
    "sharpDf['TFT'] = FT\n",
    "sharpDf.drop(columns=tmr, inplace=True)\n",
    "sharpDf = pd.concat([sharpDf, one_hot], axis=1)\n",
    "sharpDf.drop(['level_0', 'index'], axis=1, inplace=True)"
   ]
  },
  {
   "cell_type": "markdown",
   "metadata": {},
   "source": [
    "## <span style=\"color:#808080\">Drop all duplicate days </span>"
   ]
  },
  {
   "cell_type": "code",
   "execution_count": 22,
   "metadata": {},
   "outputs": [
    {
     "data": {
      "text/plain": [
       "650566"
      ]
     },
     "execution_count": 22,
     "metadata": {},
     "output_type": "execute_result"
    }
   ],
   "source": [
    "sharpDf = sharpDf.iloc[::-1].reset_index()\n",
    "sharpDf = sharpDf.drop(['index'], axis=1)\n",
    "df = list()\n",
    "prev = sharpDf.iloc[0]\n",
    "for index, row in sharpDf.iterrows():\n",
    "    df.append(row)\n",
    "    if index == 0:\n",
    "        continue\n",
    "    if prev['Buno'] == row['Buno'] and prev['LaunchDate'] == row['LaunchDate']:\n",
    "        df.pop()\n",
    "    prev = row\n",
    "df = pd.DataFrame(df)\n",
    "len(df)"
   ]
  },
  {
   "cell_type": "markdown",
   "metadata": {},
   "source": [
    "## <span style=\"color:#808080\">Give numeric value to each pilot rank </span>"
   ]
  },
  {
   "cell_type": "code",
   "execution_count": 23,
   "metadata": {},
   "outputs": [
    {
     "data": {
      "text/html": [
       "<div>\n",
       "<style scoped>\n",
       "    .dataframe tbody tr th:only-of-type {\n",
       "        vertical-align: middle;\n",
       "    }\n",
       "\n",
       "    .dataframe tbody tr th {\n",
       "        vertical-align: top;\n",
       "    }\n",
       "\n",
       "    .dataframe thead th {\n",
       "        text-align: right;\n",
       "    }\n",
       "</style>\n",
       "<table border=\"1\" class=\"dataframe\">\n",
       "  <thead>\n",
       "    <tr style=\"text-align: right;\">\n",
       "      <th></th>\n",
       "      <th>LaunchDate</th>\n",
       "      <th>Buno</th>\n",
       "      <th>TFT</th>\n",
       "      <th>Pilot Rank</th>\n",
       "      <th>Ship</th>\n",
       "      <th>Flights</th>\n",
       "      <th>1A0</th>\n",
       "      <th>1A1</th>\n",
       "      <th>1A2</th>\n",
       "      <th>1A3</th>\n",
       "      <th>...</th>\n",
       "      <th>6Y1</th>\n",
       "      <th>7N0</th>\n",
       "      <th>7N1</th>\n",
       "      <th>7O1</th>\n",
       "      <th>7O3</th>\n",
       "      <th>7O6</th>\n",
       "      <th>7T9</th>\n",
       "      <th>7W2</th>\n",
       "      <th>7X2</th>\n",
       "      <th>7X7</th>\n",
       "    </tr>\n",
       "  </thead>\n",
       "  <tbody>\n",
       "    <tr>\n",
       "      <th>0</th>\n",
       "      <td>04/28/2009</td>\n",
       "      <td>999998</td>\n",
       "      <td>2.6</td>\n",
       "      <td>9</td>\n",
       "      <td>0</td>\n",
       "      <td>1</td>\n",
       "      <td>0</td>\n",
       "      <td>0</td>\n",
       "      <td>0</td>\n",
       "      <td>0</td>\n",
       "      <td>...</td>\n",
       "      <td>0</td>\n",
       "      <td>0</td>\n",
       "      <td>0</td>\n",
       "      <td>0</td>\n",
       "      <td>0</td>\n",
       "      <td>0</td>\n",
       "      <td>0</td>\n",
       "      <td>0</td>\n",
       "      <td>0</td>\n",
       "      <td>0</td>\n",
       "    </tr>\n",
       "    <tr>\n",
       "      <th>1</th>\n",
       "      <td>01/07/2010</td>\n",
       "      <td>999998</td>\n",
       "      <td>1.5</td>\n",
       "      <td>9</td>\n",
       "      <td>0</td>\n",
       "      <td>2</td>\n",
       "      <td>0</td>\n",
       "      <td>2</td>\n",
       "      <td>0</td>\n",
       "      <td>0</td>\n",
       "      <td>...</td>\n",
       "      <td>0</td>\n",
       "      <td>0</td>\n",
       "      <td>0</td>\n",
       "      <td>0</td>\n",
       "      <td>0</td>\n",
       "      <td>0</td>\n",
       "      <td>0</td>\n",
       "      <td>0</td>\n",
       "      <td>0</td>\n",
       "      <td>0</td>\n",
       "    </tr>\n",
       "    <tr>\n",
       "      <th>3</th>\n",
       "      <td>01/06/2009</td>\n",
       "      <td>999998</td>\n",
       "      <td>1.5</td>\n",
       "      <td>9</td>\n",
       "      <td>0</td>\n",
       "      <td>3</td>\n",
       "      <td>0</td>\n",
       "      <td>3</td>\n",
       "      <td>0</td>\n",
       "      <td>0</td>\n",
       "      <td>...</td>\n",
       "      <td>0</td>\n",
       "      <td>0</td>\n",
       "      <td>0</td>\n",
       "      <td>0</td>\n",
       "      <td>0</td>\n",
       "      <td>0</td>\n",
       "      <td>0</td>\n",
       "      <td>0</td>\n",
       "      <td>0</td>\n",
       "      <td>0</td>\n",
       "    </tr>\n",
       "    <tr>\n",
       "      <th>6</th>\n",
       "      <td>04/21/2011</td>\n",
       "      <td>999961</td>\n",
       "      <td>2.2</td>\n",
       "      <td>11</td>\n",
       "      <td>0</td>\n",
       "      <td>2</td>\n",
       "      <td>0</td>\n",
       "      <td>0</td>\n",
       "      <td>0</td>\n",
       "      <td>0</td>\n",
       "      <td>...</td>\n",
       "      <td>0</td>\n",
       "      <td>0</td>\n",
       "      <td>0</td>\n",
       "      <td>0</td>\n",
       "      <td>0</td>\n",
       "      <td>0</td>\n",
       "      <td>0</td>\n",
       "      <td>0</td>\n",
       "      <td>0</td>\n",
       "      <td>0</td>\n",
       "    </tr>\n",
       "    <tr>\n",
       "      <th>8</th>\n",
       "      <td>03/17/2011</td>\n",
       "      <td>999961</td>\n",
       "      <td>0.5</td>\n",
       "      <td>10</td>\n",
       "      <td>0</td>\n",
       "      <td>1</td>\n",
       "      <td>0</td>\n",
       "      <td>0</td>\n",
       "      <td>0</td>\n",
       "      <td>0</td>\n",
       "      <td>...</td>\n",
       "      <td>0</td>\n",
       "      <td>0</td>\n",
       "      <td>0</td>\n",
       "      <td>0</td>\n",
       "      <td>0</td>\n",
       "      <td>0</td>\n",
       "      <td>0</td>\n",
       "      <td>0</td>\n",
       "      <td>0</td>\n",
       "      <td>0</td>\n",
       "    </tr>\n",
       "  </tbody>\n",
       "</table>\n",
       "<p>5 rows × 222 columns</p>\n",
       "</div>"
      ],
      "text/plain": [
       "   LaunchDate    Buno  TFT  Pilot Rank  Ship  Flights  1A0  1A1  1A2  1A3  \\\n",
       "0  04/28/2009  999998  2.6           9     0        1    0    0    0    0   \n",
       "1  01/07/2010  999998  1.5           9     0        2    0    2    0    0   \n",
       "3  01/06/2009  999998  1.5           9     0        3    0    3    0    0   \n",
       "6  04/21/2011  999961  2.2          11     0        2    0    0    0    0   \n",
       "8  03/17/2011  999961  0.5          10     0        1    0    0    0    0   \n",
       "\n",
       "  ...   6Y1  7N0  7N1  7O1  7O3  7O6  7T9  7W2  7X2  7X7  \n",
       "0 ...     0    0    0    0    0    0    0    0    0    0  \n",
       "1 ...     0    0    0    0    0    0    0    0    0    0  \n",
       "3 ...     0    0    0    0    0    0    0    0    0    0  \n",
       "6 ...     0    0    0    0    0    0    0    0    0    0  \n",
       "8 ...     0    0    0    0    0    0    0    0    0    0  \n",
       "\n",
       "[5 rows x 222 columns]"
      ]
     },
     "execution_count": 23,
     "metadata": {},
     "output_type": "execute_result"
    }
   ],
   "source": [
    "ranks = {'nan': 0,\n",
    " 'CIVILIAN': 1,\n",
    " 'CIVILIAN (CONTRACTOR)': 2,\n",
    " 'E-1': 3,\n",
    " 'E-6': 4,\n",
    " 'E-7': 5,\n",
    " 'MIDSHIPMAN': 6,\n",
    " 'O-1': 7,\n",
    " 'O-2': 8,\n",
    " 'O-3': 9,\n",
    " 'O-4': 10,\n",
    " 'O-5': 11,\n",
    " 'O-6': 12,\n",
    " 'O-7': 13,\n",
    " 'O-8': 14,\n",
    " 'O-9': 15,\n",
    " 'O-10': 16}\n",
    "p_rank = list()\n",
    "for index, row in df.iterrows():\n",
    "    if pd.isnull(row['Pilot Rank']):\n",
    "        p_rank.append(0)\n",
    "    else:\n",
    "        p_rank.append(ranks[row['Pilot Rank']])\n",
    "df['Pilot Rank'] = p_rank\n",
    "df.head()"
   ]
  },
  {
   "cell_type": "markdown",
   "metadata": {},
   "source": [
    "## <span style=\"color:#808080\"> Read in mc status </span>"
   ]
  },
  {
   "cell_type": "code",
   "execution_count": 24,
   "metadata": {},
   "outputs": [],
   "source": [
    "mcDf = pd.read_csv('DailyBunoMC.csv')"
   ]
  },
  {
   "cell_type": "code",
   "execution_count": 25,
   "metadata": {},
   "outputs": [],
   "source": [
    "def convertTime(x, tag):\n",
    "    date = list()\n",
    "    for index, row in x.iterrows():\n",
    "        date.append(pd.Timestamp(row[tag]))\n",
    "    return date"
   ]
  },
  {
   "cell_type": "code",
   "execution_count": 26,
   "metadata": {},
   "outputs": [],
   "source": [
    "# convert to pandas timestamp\n",
    "mcDf['Date'] = convertTime(mcDf, 'Date')\n",
    "df['LaunchDate'] = convertTime(df, 'LaunchDate')"
   ]
  },
  {
   "cell_type": "code",
   "execution_count": 27,
   "metadata": {},
   "outputs": [
    {
     "data": {
      "text/html": [
       "<div>\n",
       "<style scoped>\n",
       "    .dataframe tbody tr th:only-of-type {\n",
       "        vertical-align: middle;\n",
       "    }\n",
       "\n",
       "    .dataframe tbody tr th {\n",
       "        vertical-align: top;\n",
       "    }\n",
       "\n",
       "    .dataframe thead th {\n",
       "        text-align: right;\n",
       "    }\n",
       "</style>\n",
       "<table border=\"1\" class=\"dataframe\">\n",
       "  <thead>\n",
       "    <tr style=\"text-align: right;\">\n",
       "      <th></th>\n",
       "      <th>Date</th>\n",
       "      <th>Buno</th>\n",
       "      <th>MC</th>\n",
       "      <th>LaunchDate</th>\n",
       "    </tr>\n",
       "  </thead>\n",
       "  <tbody>\n",
       "    <tr>\n",
       "      <th>0</th>\n",
       "      <td>2009-01-14</td>\n",
       "      <td>165167</td>\n",
       "      <td>2.0</td>\n",
       "      <td>2009-01-13</td>\n",
       "    </tr>\n",
       "    <tr>\n",
       "      <th>1</th>\n",
       "      <td>2009-01-15</td>\n",
       "      <td>165167</td>\n",
       "      <td>2.0</td>\n",
       "      <td>2009-01-14</td>\n",
       "    </tr>\n",
       "    <tr>\n",
       "      <th>2</th>\n",
       "      <td>2009-01-16</td>\n",
       "      <td>165167</td>\n",
       "      <td>2.0</td>\n",
       "      <td>2009-01-15</td>\n",
       "    </tr>\n",
       "    <tr>\n",
       "      <th>3</th>\n",
       "      <td>2009-01-17</td>\n",
       "      <td>165167</td>\n",
       "      <td>2.0</td>\n",
       "      <td>2009-01-16</td>\n",
       "    </tr>\n",
       "    <tr>\n",
       "      <th>4</th>\n",
       "      <td>2009-01-18</td>\n",
       "      <td>165167</td>\n",
       "      <td>2.0</td>\n",
       "      <td>2009-01-17</td>\n",
       "    </tr>\n",
       "  </tbody>\n",
       "</table>\n",
       "</div>"
      ],
      "text/plain": [
       "        Date    Buno   MC LaunchDate\n",
       "0 2009-01-14  165167  2.0 2009-01-13\n",
       "1 2009-01-15  165167  2.0 2009-01-14\n",
       "2 2009-01-16  165167  2.0 2009-01-15\n",
       "3 2009-01-17  165167  2.0 2009-01-16\n",
       "4 2009-01-18  165167  2.0 2009-01-17"
      ]
     },
     "execution_count": 27,
     "metadata": {},
     "output_type": "execute_result"
    }
   ],
   "source": [
    "# grab next day mc status by merging mcDf on previous day\n",
    "date = list()\n",
    "for index, row in mcDf.iterrows():\n",
    "    date.append(row['Date'] + pd.Timedelta(days=-1))\n",
    "mcDf['LaunchDate'] = date\n",
    "mcDf.head()"
   ]
  },
  {
   "cell_type": "markdown",
   "metadata": {},
   "source": [
    "## <span style=\"color:#808080\">  Merge dataframes </span>"
   ]
  },
  {
   "cell_type": "code",
   "execution_count": 28,
   "metadata": {},
   "outputs": [
    {
     "data": {
      "text/html": [
       "<div>\n",
       "<style scoped>\n",
       "    .dataframe tbody tr th:only-of-type {\n",
       "        vertical-align: middle;\n",
       "    }\n",
       "\n",
       "    .dataframe tbody tr th {\n",
       "        vertical-align: top;\n",
       "    }\n",
       "\n",
       "    .dataframe thead th {\n",
       "        text-align: right;\n",
       "    }\n",
       "</style>\n",
       "<table border=\"1\" class=\"dataframe\">\n",
       "  <thead>\n",
       "    <tr style=\"text-align: right;\">\n",
       "      <th></th>\n",
       "      <th>LaunchDate</th>\n",
       "      <th>Buno</th>\n",
       "      <th>TFT</th>\n",
       "      <th>Pilot Rank</th>\n",
       "      <th>Ship</th>\n",
       "      <th>Flights</th>\n",
       "      <th>1A0</th>\n",
       "      <th>1A1</th>\n",
       "      <th>1A2</th>\n",
       "      <th>1A3</th>\n",
       "      <th>...</th>\n",
       "      <th>7N1</th>\n",
       "      <th>7O1</th>\n",
       "      <th>7O3</th>\n",
       "      <th>7O6</th>\n",
       "      <th>7T9</th>\n",
       "      <th>7W2</th>\n",
       "      <th>7X2</th>\n",
       "      <th>7X7</th>\n",
       "      <th>MC_x</th>\n",
       "      <th>MC_y</th>\n",
       "    </tr>\n",
       "  </thead>\n",
       "  <tbody>\n",
       "    <tr>\n",
       "      <th>0</th>\n",
       "      <td>2016-12-16</td>\n",
       "      <td>169123</td>\n",
       "      <td>1.0</td>\n",
       "      <td>9</td>\n",
       "      <td>0</td>\n",
       "      <td>1</td>\n",
       "      <td>0</td>\n",
       "      <td>0</td>\n",
       "      <td>0</td>\n",
       "      <td>0</td>\n",
       "      <td>...</td>\n",
       "      <td>0</td>\n",
       "      <td>0</td>\n",
       "      <td>0</td>\n",
       "      <td>0</td>\n",
       "      <td>0</td>\n",
       "      <td>0</td>\n",
       "      <td>0</td>\n",
       "      <td>0</td>\n",
       "      <td>2.0</td>\n",
       "      <td>2.0</td>\n",
       "    </tr>\n",
       "    <tr>\n",
       "      <th>1</th>\n",
       "      <td>2016-12-09</td>\n",
       "      <td>169123</td>\n",
       "      <td>0.6</td>\n",
       "      <td>9</td>\n",
       "      <td>0</td>\n",
       "      <td>1</td>\n",
       "      <td>0</td>\n",
       "      <td>0</td>\n",
       "      <td>0</td>\n",
       "      <td>0</td>\n",
       "      <td>...</td>\n",
       "      <td>0</td>\n",
       "      <td>0</td>\n",
       "      <td>0</td>\n",
       "      <td>0</td>\n",
       "      <td>0</td>\n",
       "      <td>0</td>\n",
       "      <td>0</td>\n",
       "      <td>0</td>\n",
       "      <td>0.0</td>\n",
       "      <td>0.0</td>\n",
       "    </tr>\n",
       "    <tr>\n",
       "      <th>2</th>\n",
       "      <td>2016-12-08</td>\n",
       "      <td>169123</td>\n",
       "      <td>1.9</td>\n",
       "      <td>9</td>\n",
       "      <td>0</td>\n",
       "      <td>2</td>\n",
       "      <td>0</td>\n",
       "      <td>0</td>\n",
       "      <td>0</td>\n",
       "      <td>0</td>\n",
       "      <td>...</td>\n",
       "      <td>0</td>\n",
       "      <td>0</td>\n",
       "      <td>0</td>\n",
       "      <td>0</td>\n",
       "      <td>0</td>\n",
       "      <td>0</td>\n",
       "      <td>0</td>\n",
       "      <td>0</td>\n",
       "      <td>0.0</td>\n",
       "      <td>0.0</td>\n",
       "    </tr>\n",
       "    <tr>\n",
       "      <th>3</th>\n",
       "      <td>2016-12-07</td>\n",
       "      <td>169123</td>\n",
       "      <td>0.9</td>\n",
       "      <td>11</td>\n",
       "      <td>0</td>\n",
       "      <td>1</td>\n",
       "      <td>0</td>\n",
       "      <td>0</td>\n",
       "      <td>0</td>\n",
       "      <td>0</td>\n",
       "      <td>...</td>\n",
       "      <td>0</td>\n",
       "      <td>0</td>\n",
       "      <td>0</td>\n",
       "      <td>0</td>\n",
       "      <td>0</td>\n",
       "      <td>0</td>\n",
       "      <td>0</td>\n",
       "      <td>0</td>\n",
       "      <td>0.0</td>\n",
       "      <td>0.0</td>\n",
       "    </tr>\n",
       "    <tr>\n",
       "      <th>4</th>\n",
       "      <td>2016-12-05</td>\n",
       "      <td>169123</td>\n",
       "      <td>3.6</td>\n",
       "      <td>9</td>\n",
       "      <td>0</td>\n",
       "      <td>3</td>\n",
       "      <td>0</td>\n",
       "      <td>0</td>\n",
       "      <td>0</td>\n",
       "      <td>0</td>\n",
       "      <td>...</td>\n",
       "      <td>0</td>\n",
       "      <td>0</td>\n",
       "      <td>0</td>\n",
       "      <td>0</td>\n",
       "      <td>0</td>\n",
       "      <td>0</td>\n",
       "      <td>0</td>\n",
       "      <td>0</td>\n",
       "      <td>0.0</td>\n",
       "      <td>0.0</td>\n",
       "    </tr>\n",
       "  </tbody>\n",
       "</table>\n",
       "<p>5 rows × 224 columns</p>\n",
       "</div>"
      ],
      "text/plain": [
       "  LaunchDate    Buno  TFT  Pilot Rank  Ship  Flights  1A0  1A1  1A2  1A3  \\\n",
       "0 2016-12-16  169123  1.0           9     0        1    0    0    0    0   \n",
       "1 2016-12-09  169123  0.6           9     0        1    0    0    0    0   \n",
       "2 2016-12-08  169123  1.9           9     0        2    0    0    0    0   \n",
       "3 2016-12-07  169123  0.9          11     0        1    0    0    0    0   \n",
       "4 2016-12-05  169123  3.6           9     0        3    0    0    0    0   \n",
       "\n",
       "   ...   7N1  7O1  7O3  7O6  7T9  7W2  7X2  7X7  MC_x  MC_y  \n",
       "0  ...     0    0    0    0    0    0    0    0   2.0   2.0  \n",
       "1  ...     0    0    0    0    0    0    0    0   0.0   0.0  \n",
       "2  ...     0    0    0    0    0    0    0    0   0.0   0.0  \n",
       "3  ...     0    0    0    0    0    0    0    0   0.0   0.0  \n",
       "4  ...     0    0    0    0    0    0    0    0   0.0   0.0  \n",
       "\n",
       "[5 rows x 224 columns]"
      ]
     },
     "execution_count": 28,
     "metadata": {},
     "output_type": "execute_result"
    }
   ],
   "source": [
    "df = df.merge(mcDf, on=['LaunchDate', 'Buno'], how='inner')\n",
    "mcDf['LaunchDate'] = mcDf['Date']\n",
    "df = df.merge(mcDf, on=['LaunchDate', 'Buno'], how='inner')\n",
    "df = df.drop(['Date_x', 'Date_y'], axis=1)\n",
    "df.head()"
   ]
  },
  {
   "cell_type": "code",
   "execution_count": 29,
   "metadata": {},
   "outputs": [],
   "source": [
    "# see if the plane was damaged next day after flight\n",
    "# MC_x is next day's MC \n",
    "# MC_y is that day's MC\n",
    "\n",
    "dam = list()\n",
    "for index, row in df.iterrows():\n",
    "    if row['MC_x'] < row['MC_y']:\n",
    "        dam.append(1)\n",
    "    else:\n",
    "        dam.append(0)\n",
    "df['dam'] = dam\n",
    "flightDf = df"
   ]
  },
  {
   "cell_type": "code",
   "execution_count": 30,
   "metadata": {},
   "outputs": [],
   "source": [
    "fields = df.drop(['LaunchDate', 'Buno', 'MC_x', 'MC_y', 'Pilot Rank'], axis=1).columns"
   ]
  },
  {
   "cell_type": "code",
   "execution_count": 31,
   "metadata": {},
   "outputs": [
    {
     "data": {
      "text/html": [
       "<div>\n",
       "<style scoped>\n",
       "    .dataframe tbody tr th:only-of-type {\n",
       "        vertical-align: middle;\n",
       "    }\n",
       "\n",
       "    .dataframe tbody tr th {\n",
       "        vertical-align: top;\n",
       "    }\n",
       "\n",
       "    .dataframe thead th {\n",
       "        text-align: right;\n",
       "    }\n",
       "</style>\n",
       "<table border=\"1\" class=\"dataframe\">\n",
       "  <thead>\n",
       "    <tr style=\"text-align: right;\">\n",
       "      <th></th>\n",
       "      <th>LaunchDate</th>\n",
       "      <th>Buno</th>\n",
       "      <th>TFT</th>\n",
       "      <th>Pilot Rank</th>\n",
       "      <th>Ship</th>\n",
       "      <th>Flights</th>\n",
       "      <th>1A0</th>\n",
       "      <th>1A1</th>\n",
       "      <th>1A2</th>\n",
       "      <th>1A3</th>\n",
       "      <th>...</th>\n",
       "      <th>7O1</th>\n",
       "      <th>7O3</th>\n",
       "      <th>7O6</th>\n",
       "      <th>7T9</th>\n",
       "      <th>7W2</th>\n",
       "      <th>7X2</th>\n",
       "      <th>7X7</th>\n",
       "      <th>MC_x</th>\n",
       "      <th>MC_y</th>\n",
       "      <th>dam</th>\n",
       "    </tr>\n",
       "  </thead>\n",
       "  <tbody>\n",
       "    <tr>\n",
       "      <th>0</th>\n",
       "      <td>2016-12-16</td>\n",
       "      <td>169123</td>\n",
       "      <td>1.0</td>\n",
       "      <td>9</td>\n",
       "      <td>0</td>\n",
       "      <td>1</td>\n",
       "      <td>0</td>\n",
       "      <td>0</td>\n",
       "      <td>0</td>\n",
       "      <td>0</td>\n",
       "      <td>...</td>\n",
       "      <td>0</td>\n",
       "      <td>0</td>\n",
       "      <td>0</td>\n",
       "      <td>0</td>\n",
       "      <td>0</td>\n",
       "      <td>0</td>\n",
       "      <td>0</td>\n",
       "      <td>2.0</td>\n",
       "      <td>2.0</td>\n",
       "      <td>0</td>\n",
       "    </tr>\n",
       "    <tr>\n",
       "      <th>1</th>\n",
       "      <td>2016-12-09</td>\n",
       "      <td>169123</td>\n",
       "      <td>0.6</td>\n",
       "      <td>9</td>\n",
       "      <td>0</td>\n",
       "      <td>1</td>\n",
       "      <td>0</td>\n",
       "      <td>0</td>\n",
       "      <td>0</td>\n",
       "      <td>0</td>\n",
       "      <td>...</td>\n",
       "      <td>0</td>\n",
       "      <td>0</td>\n",
       "      <td>0</td>\n",
       "      <td>0</td>\n",
       "      <td>0</td>\n",
       "      <td>0</td>\n",
       "      <td>0</td>\n",
       "      <td>0.0</td>\n",
       "      <td>0.0</td>\n",
       "      <td>0</td>\n",
       "    </tr>\n",
       "    <tr>\n",
       "      <th>2</th>\n",
       "      <td>2016-12-08</td>\n",
       "      <td>169123</td>\n",
       "      <td>1.9</td>\n",
       "      <td>9</td>\n",
       "      <td>0</td>\n",
       "      <td>2</td>\n",
       "      <td>0</td>\n",
       "      <td>0</td>\n",
       "      <td>0</td>\n",
       "      <td>0</td>\n",
       "      <td>...</td>\n",
       "      <td>0</td>\n",
       "      <td>0</td>\n",
       "      <td>0</td>\n",
       "      <td>0</td>\n",
       "      <td>0</td>\n",
       "      <td>0</td>\n",
       "      <td>0</td>\n",
       "      <td>0.0</td>\n",
       "      <td>0.0</td>\n",
       "      <td>0</td>\n",
       "    </tr>\n",
       "    <tr>\n",
       "      <th>3</th>\n",
       "      <td>2016-12-07</td>\n",
       "      <td>169123</td>\n",
       "      <td>0.9</td>\n",
       "      <td>11</td>\n",
       "      <td>0</td>\n",
       "      <td>1</td>\n",
       "      <td>0</td>\n",
       "      <td>0</td>\n",
       "      <td>0</td>\n",
       "      <td>0</td>\n",
       "      <td>...</td>\n",
       "      <td>0</td>\n",
       "      <td>0</td>\n",
       "      <td>0</td>\n",
       "      <td>0</td>\n",
       "      <td>0</td>\n",
       "      <td>0</td>\n",
       "      <td>0</td>\n",
       "      <td>0.0</td>\n",
       "      <td>0.0</td>\n",
       "      <td>0</td>\n",
       "    </tr>\n",
       "    <tr>\n",
       "      <th>4</th>\n",
       "      <td>2016-12-05</td>\n",
       "      <td>169123</td>\n",
       "      <td>3.6</td>\n",
       "      <td>9</td>\n",
       "      <td>0</td>\n",
       "      <td>3</td>\n",
       "      <td>0</td>\n",
       "      <td>0</td>\n",
       "      <td>0</td>\n",
       "      <td>0</td>\n",
       "      <td>...</td>\n",
       "      <td>0</td>\n",
       "      <td>0</td>\n",
       "      <td>0</td>\n",
       "      <td>0</td>\n",
       "      <td>0</td>\n",
       "      <td>0</td>\n",
       "      <td>0</td>\n",
       "      <td>0.0</td>\n",
       "      <td>0.0</td>\n",
       "      <td>0</td>\n",
       "    </tr>\n",
       "  </tbody>\n",
       "</table>\n",
       "<p>5 rows × 225 columns</p>\n",
       "</div>"
      ],
      "text/plain": [
       "  LaunchDate    Buno  TFT  Pilot Rank  Ship  Flights  1A0  1A1  1A2  1A3 ...   \\\n",
       "0 2016-12-16  169123  1.0           9     0        1    0    0    0    0 ...    \n",
       "1 2016-12-09  169123  0.6           9     0        1    0    0    0    0 ...    \n",
       "2 2016-12-08  169123  1.9           9     0        2    0    0    0    0 ...    \n",
       "3 2016-12-07  169123  0.9          11     0        1    0    0    0    0 ...    \n",
       "4 2016-12-05  169123  3.6           9     0        3    0    0    0    0 ...    \n",
       "\n",
       "   7O1  7O3  7O6  7T9  7W2  7X2  7X7  MC_x  MC_y  dam  \n",
       "0    0    0    0    0    0    0    0   2.0   2.0    0  \n",
       "1    0    0    0    0    0    0    0   0.0   0.0    0  \n",
       "2    0    0    0    0    0    0    0   0.0   0.0    0  \n",
       "3    0    0    0    0    0    0    0   0.0   0.0    0  \n",
       "4    0    0    0    0    0    0    0   0.0   0.0    0  \n",
       "\n",
       "[5 rows x 225 columns]"
      ]
     },
     "execution_count": 31,
     "metadata": {},
     "output_type": "execute_result"
    }
   ],
   "source": [
    "df.head()"
   ]
  },
  {
   "cell_type": "code",
   "execution_count": 32,
   "metadata": {},
   "outputs": [
    {
     "data": {
      "text/plain": [
       "(167557, 225)"
      ]
     },
     "execution_count": 32,
     "metadata": {},
     "output_type": "execute_result"
    }
   ],
   "source": [
    "df.shape"
   ]
  },
  {
   "cell_type": "code",
   "execution_count": 33,
   "metadata": {},
   "outputs": [],
   "source": [
    "df.to_csv(r'Sharp_cleaned.csv', index=False)"
   ]
  },
  {
   "cell_type": "code",
   "execution_count": null,
   "metadata": {},
   "outputs": [],
   "source": []
  }
 ],
 "metadata": {
  "kernelspec": {
   "display_name": "Python 3",
   "language": "python",
   "name": "python3"
  },
  "language_info": {
   "codemirror_mode": {
    "name": "ipython",
    "version": 3
   },
   "file_extension": ".py",
   "mimetype": "text/x-python",
   "name": "python",
   "nbconvert_exporter": "python",
   "pygments_lexer": "ipython3",
   "version": "3.7.3"
  }
 },
 "nbformat": 4,
 "nbformat_minor": 2
}
