{
 "cells": [
  {
   "cell_type": "code",
   "execution_count": 57,
   "metadata": {},
   "outputs": [],
   "source": [
    "from collections import defaultdict\n",
    "import glob\n",
    "import numpy as np\n",
    "import os\n",
    "import pandas as pd\n",
    "import shutil"
   ]
  },
  {
   "cell_type": "markdown",
   "metadata": {},
   "source": [
    "# Create Maintenance Features for each BUNO "
   ]
  },
  {
   "cell_type": "markdown",
   "metadata": {},
   "source": [
    "## First make temporary files by BUNO with raw maintenance records"
   ]
  },
  {
   "cell_type": "code",
   "execution_count": 58,
   "metadata": {},
   "outputs": [
    {
     "name": "stdout",
     "output_type": "stream",
     "text": [
      "Writing temporary maintenance record files...\n",
      "Processing year 2016, BUNO 663/663...\n",
      "Done!\n"
     ]
    }
   ],
   "source": [
    "min_year = 2009\n",
    "max_year = 2016\n",
    "\n",
    "maint_data_dir = 'maint_data'\n",
    "temp_maint_dir = 'buno-maint-files-temp'\n",
    "bunos = np.load('miscellaneous/bunos.npy')\n",
    "\n",
    "all_fnames = list(glob.iglob(os.path.join(maint_data_dir, '*.csv')))\n",
    "\n",
    "if os.path.exists(temp_maint_dir):\n",
    "    shutil.rmtree(temp_maint_dir)\n",
    "\n",
    "os.mkdir(temp_maint_dir)\n",
    "    \n",
    "written = defaultdict(lambda: False)\n",
    "\n",
    "print('Writing temporary maintenance record files...')\n",
    "\n",
    "for year in range(min_year, max_year + 1):\n",
    "    fnames = [fname for fname in all_fnames if str(year) in fname]\n",
    "    dfs = [pd.read_csv(open(fname, 'r', errors='ignore'), dtype=str) for fname in fnames]\n",
    "\n",
    "    if not len(dfs):\n",
    "        continue\n",
    "    \n",
    "    year_df = pd.concat(dfs)\n",
    "\n",
    "    for i, buno in enumerate(bunos):\n",
    "        print(f'Processing year {year}, BUNO {i + 1}/{bunos.size}...', end='\\r')\n",
    "        \n",
    "        buno_fp = os.path.join(temp_maint_dir, f'{buno}-maint-history.csv')\n",
    "        buno_file = open(buno_fp, 'a')\n",
    "        buno_data = year_df[year_df['Bu/SerNo'] == str(buno)]\n",
    "        \n",
    "        if len(buno_data) > 0:\n",
    "            write_header = True if not written[buno] else False\n",
    "            buno_data.to_csv(buno_file, index=False, header=write_header)\n",
    "            written[buno] = True\n",
    "\n",
    "        if not written[buno]:\n",
    "            os.remove(buno_fp)\n",
    "\n",
    "print('\\nDone!')"
   ]
  },
  {
   "cell_type": "markdown",
   "metadata": {},
   "source": [
    "## Create maintenance feature files"
   ]
  },
  {
   "cell_type": "code",
   "execution_count": 198,
   "metadata": {
    "collapsed": true
   },
   "outputs": [
    {
     "name": "stdout",
     "output_type": "stream",
     "text": [
      "Creating maintenance feature files...\n",
      "Processing BUNO 1/596\r"
     ]
    },
    {
     "name": "stderr",
     "output_type": "stream",
     "text": [
      "/anaconda3/lib/python3.7/site-packages/ipykernel_launcher.py:29: SettingWithCopyWarning: \n",
      "A value is trying to be set on a copy of a slice from a DataFrame\n",
      "\n",
      "See the caveats in the documentation: http://pandas.pydata.org/pandas-docs/stable/indexing.html#indexing-view-versus-copy\n"
     ]
    },
    {
     "name": "stdout",
     "output_type": "stream",
     "text": [
      "Processing BUNO 56/596\r"
     ]
    },
    {
     "name": "stderr",
     "output_type": "stream",
     "text": [
      "/anaconda3/lib/python3.7/site-packages/ipykernel_launcher.py:29: SettingWithCopyWarning: \n",
      "A value is trying to be set on a copy of a slice from a DataFrame\n",
      "\n",
      "See the caveats in the documentation: http://pandas.pydata.org/pandas-docs/stable/indexing.html#indexing-view-versus-copy\n"
     ]
    },
    {
     "name": "stdout",
     "output_type": "stream",
     "text": [
      "Processing BUNO 100/596\r"
     ]
    },
    {
     "name": "stderr",
     "output_type": "stream",
     "text": [
      "/anaconda3/lib/python3.7/site-packages/ipykernel_launcher.py:29: SettingWithCopyWarning: \n",
      "A value is trying to be set on a copy of a slice from a DataFrame\n",
      "\n",
      "See the caveats in the documentation: http://pandas.pydata.org/pandas-docs/stable/indexing.html#indexing-view-versus-copy\n"
     ]
    },
    {
     "name": "stdout",
     "output_type": "stream",
     "text": [
      "Processing BUNO 139/596\r"
     ]
    },
    {
     "name": "stderr",
     "output_type": "stream",
     "text": [
      "/anaconda3/lib/python3.7/site-packages/ipykernel_launcher.py:29: SettingWithCopyWarning: \n",
      "A value is trying to be set on a copy of a slice from a DataFrame\n",
      "\n",
      "See the caveats in the documentation: http://pandas.pydata.org/pandas-docs/stable/indexing.html#indexing-view-versus-copy\n"
     ]
    },
    {
     "name": "stdout",
     "output_type": "stream",
     "text": [
      "Processing BUNO 142/596\r"
     ]
    },
    {
     "name": "stderr",
     "output_type": "stream",
     "text": [
      "/anaconda3/lib/python3.7/site-packages/ipykernel_launcher.py:29: SettingWithCopyWarning: \n",
      "A value is trying to be set on a copy of a slice from a DataFrame\n",
      "\n",
      "See the caveats in the documentation: http://pandas.pydata.org/pandas-docs/stable/indexing.html#indexing-view-versus-copy\n"
     ]
    },
    {
     "name": "stdout",
     "output_type": "stream",
     "text": [
      "Processing BUNO 147/596\r"
     ]
    },
    {
     "name": "stderr",
     "output_type": "stream",
     "text": [
      "/anaconda3/lib/python3.7/site-packages/ipykernel_launcher.py:29: SettingWithCopyWarning: \n",
      "A value is trying to be set on a copy of a slice from a DataFrame\n",
      "\n",
      "See the caveats in the documentation: http://pandas.pydata.org/pandas-docs/stable/indexing.html#indexing-view-versus-copy\n"
     ]
    },
    {
     "name": "stdout",
     "output_type": "stream",
     "text": [
      "Processing BUNO 179/596\r"
     ]
    },
    {
     "name": "stderr",
     "output_type": "stream",
     "text": [
      "/anaconda3/lib/python3.7/site-packages/ipykernel_launcher.py:29: SettingWithCopyWarning: \n",
      "A value is trying to be set on a copy of a slice from a DataFrame\n",
      "\n",
      "See the caveats in the documentation: http://pandas.pydata.org/pandas-docs/stable/indexing.html#indexing-view-versus-copy\n"
     ]
    },
    {
     "name": "stdout",
     "output_type": "stream",
     "text": [
      "Processing BUNO 203/596\r"
     ]
    },
    {
     "name": "stderr",
     "output_type": "stream",
     "text": [
      "/anaconda3/lib/python3.7/site-packages/ipykernel_launcher.py:29: SettingWithCopyWarning: \n",
      "A value is trying to be set on a copy of a slice from a DataFrame\n",
      "\n",
      "See the caveats in the documentation: http://pandas.pydata.org/pandas-docs/stable/indexing.html#indexing-view-versus-copy\n"
     ]
    },
    {
     "name": "stdout",
     "output_type": "stream",
     "text": [
      "Processing BUNO 225/596\r"
     ]
    },
    {
     "name": "stderr",
     "output_type": "stream",
     "text": [
      "/anaconda3/lib/python3.7/site-packages/ipykernel_launcher.py:29: SettingWithCopyWarning: \n",
      "A value is trying to be set on a copy of a slice from a DataFrame\n",
      "\n",
      "See the caveats in the documentation: http://pandas.pydata.org/pandas-docs/stable/indexing.html#indexing-view-versus-copy\n"
     ]
    },
    {
     "name": "stdout",
     "output_type": "stream",
     "text": [
      "Processing BUNO 230/596\r"
     ]
    },
    {
     "name": "stderr",
     "output_type": "stream",
     "text": [
      "/anaconda3/lib/python3.7/site-packages/ipykernel_launcher.py:29: SettingWithCopyWarning: \n",
      "A value is trying to be set on a copy of a slice from a DataFrame\n",
      "\n",
      "See the caveats in the documentation: http://pandas.pydata.org/pandas-docs/stable/indexing.html#indexing-view-versus-copy\n"
     ]
    },
    {
     "name": "stdout",
     "output_type": "stream",
     "text": [
      "Processing BUNO 330/596\r"
     ]
    },
    {
     "name": "stderr",
     "output_type": "stream",
     "text": [
      "/anaconda3/lib/python3.7/site-packages/ipykernel_launcher.py:29: SettingWithCopyWarning: \n",
      "A value is trying to be set on a copy of a slice from a DataFrame\n",
      "\n",
      "See the caveats in the documentation: http://pandas.pydata.org/pandas-docs/stable/indexing.html#indexing-view-versus-copy\n"
     ]
    },
    {
     "name": "stdout",
     "output_type": "stream",
     "text": [
      "Processing BUNO 376/596\r"
     ]
    },
    {
     "name": "stderr",
     "output_type": "stream",
     "text": [
      "/anaconda3/lib/python3.7/site-packages/ipykernel_launcher.py:29: SettingWithCopyWarning: \n",
      "A value is trying to be set on a copy of a slice from a DataFrame\n",
      "\n",
      "See the caveats in the documentation: http://pandas.pydata.org/pandas-docs/stable/indexing.html#indexing-view-versus-copy\n"
     ]
    },
    {
     "name": "stdout",
     "output_type": "stream",
     "text": [
      "Processing BUNO 463/596\r"
     ]
    },
    {
     "name": "stderr",
     "output_type": "stream",
     "text": [
      "/anaconda3/lib/python3.7/site-packages/ipykernel_launcher.py:29: SettingWithCopyWarning: \n",
      "A value is trying to be set on a copy of a slice from a DataFrame\n",
      "\n",
      "See the caveats in the documentation: http://pandas.pydata.org/pandas-docs/stable/indexing.html#indexing-view-versus-copy\n"
     ]
    },
    {
     "name": "stdout",
     "output_type": "stream",
     "text": [
      "Processing BUNO 475/596\r"
     ]
    },
    {
     "name": "stderr",
     "output_type": "stream",
     "text": [
      "/anaconda3/lib/python3.7/site-packages/ipykernel_launcher.py:29: SettingWithCopyWarning: \n",
      "A value is trying to be set on a copy of a slice from a DataFrame\n",
      "\n",
      "See the caveats in the documentation: http://pandas.pydata.org/pandas-docs/stable/indexing.html#indexing-view-versus-copy\n"
     ]
    },
    {
     "name": "stdout",
     "output_type": "stream",
     "text": [
      "Processing BUNO 528/596\r"
     ]
    },
    {
     "name": "stderr",
     "output_type": "stream",
     "text": [
      "/anaconda3/lib/python3.7/site-packages/ipykernel_launcher.py:29: SettingWithCopyWarning: \n",
      "A value is trying to be set on a copy of a slice from a DataFrame\n",
      "\n",
      "See the caveats in the documentation: http://pandas.pydata.org/pandas-docs/stable/indexing.html#indexing-view-versus-copy\n"
     ]
    },
    {
     "name": "stdout",
     "output_type": "stream",
     "text": [
      "Processing BUNO 580/596\r"
     ]
    },
    {
     "name": "stderr",
     "output_type": "stream",
     "text": [
      "/anaconda3/lib/python3.7/site-packages/ipykernel_launcher.py:29: SettingWithCopyWarning: \n",
      "A value is trying to be set on a copy of a slice from a DataFrame\n",
      "\n",
      "See the caveats in the documentation: http://pandas.pydata.org/pandas-docs/stable/indexing.html#indexing-view-versus-copy\n"
     ]
    },
    {
     "name": "stdout",
     "output_type": "stream",
     "text": [
      "Processing BUNO 583/596\r"
     ]
    },
    {
     "name": "stderr",
     "output_type": "stream",
     "text": [
      "/anaconda3/lib/python3.7/site-packages/ipykernel_launcher.py:29: SettingWithCopyWarning: \n",
      "A value is trying to be set on a copy of a slice from a DataFrame\n",
      "\n",
      "See the caveats in the documentation: http://pandas.pydata.org/pandas-docs/stable/indexing.html#indexing-view-versus-copy\n"
     ]
    },
    {
     "name": "stdout",
     "output_type": "stream",
     "text": [
      "Processing BUNO 596/596\n",
      "Done!\n",
      "\n"
     ]
    }
   ],
   "source": [
    "print('Creating maintenance feature files...')\n",
    "\n",
    "at_codes = ['t', 'c', 'J', 'L', '6', 'F', 'B', ‘ ‘, 'D', 'T']\n",
    "\n",
    "maint_feat_dir = 'buno-maint-feat'\n",
    "cum_fh_dir = 'buno-cum-fh-files'\n",
    "\n",
    "if not os.path.exists(maint_feat_dir):\n",
    "    os.mkdir(maint_feat_dir)\n",
    "    \n",
    "fnames = list(glob.iglob(os.path.join(temp_maint_dir, '*.csv')))\n",
    "\n",
    "for i, fname in enumerate(fnames):\n",
    "    print(f'Processing BUNO {i + 1}/{len(fnames)}', end='\\r')\n",
    "    \n",
    "    buno = fname.split('/')[-1].split('.')[0].split('-')[0]\n",
    "    \n",
    "    maint_df = pd.read_csv(fname)\n",
    "    maint_df['Comp Date'] = pd.to_datetime(maint_df['Comp Date'])\n",
    "    maint_df = maint_df.rename(columns={'Bu/SerNo': 'buno'})\n",
    "    maint_df = maint_df.sort_values('Comp Date').reset_index()\n",
    "    \n",
    "    feat_df = pd.DataFrame()\n",
    "    feat_df['Date'] = maint_df['Comp Date']\n",
    "    \n",
    "    # Get the Action Taken onehot features\n",
    "    at_df = maint_df['Action Taken']\n",
    "    maint_df['Action Taken'][~maint_df['Action Taken'].isin(action_codes)] = 'NULL'\n",
    "    \n",
    "    if 'NULL' in at_feat.columns:\n",
    "        at_feat = pd.get_dummies(at_df).drop('NULL', axis=1)\n",
    "    \n",
    "    feat_df = pd.concat([feat_df, at_feat], axis=1)\n",
    "    \n",
    "    # Not all files have every code in them. So add columns for the missing ones\n",
    "    missing_codes = [code for code in at_codes if code not in feat_df.columns]\n",
    "    for code in missing_codes:\n",
    "        feat_df[code] = 0\n",
    "        \n",
    "    # Merge maintenance events that occur on the same date\n",
    "    agg_funs = dict([(col, 'max') for col in at_codes])\n",
    "    feat_df = feat_df.groupby('Date').agg(agg_funs)\n",
    "        \n",
    "    cum_fh_fp = os.path.join(cum_fh_dir, f'{buno}-cum-fh.csv')\n",
    "\n",
    "    # Merge in cumulative flight hours\n",
    "    feat_df = feat_df.merge(cum_fh_df, on='Date').drop('Buno', axis=1)\n",
    "    \n",
    "    feat_df.to_csv(os.path.join(maint_feat_dir, f'{buno}-maint-feat.csv'), index=False)\n",
    "    \n",
    "print('\\nDone!\\n')\n",
    "\n",
    "shutil.rmtree(temp_maint_dir)"
   ]
  },
  {
   "cell_type": "markdown",
   "metadata": {},
   "source": [
    "# Create files that indicate whether a plane was damaged after a mission\n",
    "\n",
    "These are the training labels"
   ]
  },
  {
   "cell_type": "code",
   "execution_count": 52,
   "metadata": {},
   "outputs": [
    {
     "name": "stdout",
     "output_type": "stream",
     "text": [
      "Creating breakage label files...\n",
      "Processing BUNO 540/540\n",
      "Done.\n"
     ]
    }
   ],
   "source": [
    "print('Creating breakage label files...')\n",
    "\n",
    "mission_data_dir = 'sharp_data'\n",
    "mission_feat_dir = 'buno_files/buno_mission'\n",
    "label_dir = 'buno-breakages'\n",
    "\n",
    "if not os.path.exists(training_set_dir):\n",
    "    os.mkdir(training_set_dir)\n",
    "    \n",
    "if not os.path.exists(label_dir):\n",
    "    os.mkdir(label_dir)\n",
    "    \n",
    "fnames = list(glob.iglob(os.path.join(mission_feat_dir, '*.csv')))\n",
    "\n",
    "for i, fname in enumerate(fnames):\n",
    "    print(f'Processing BUNO {i + 1}/{len(fnames)}', end='\\r')\n",
    "    \n",
    "    buno = fname.split('/')[-1].split('.')[0].split('-')[0]\n",
    "    df = pd.read_csv(fname)\n",
    "    \n",
    "    write_fname = os.path.join(label_dir, f'{buno}-breakages.csv')\n",
    "    \n",
    "    damaged_df = df[['Buno', 'LaunchDate', 'dam']]\n",
    "    damaged_df.to_csv(write_fname, index=False)\n",
    "\n",
    "print('\\nDone.')"
   ]
  }
 ],
 "metadata": {
  "kernelspec": {
   "display_name": "Python 3",
   "language": "python",
   "name": "python3"
  },
  "language_info": {
   "codemirror_mode": {
    "name": "ipython",
    "version": 3
   },
   "file_extension": ".py",
   "mimetype": "text/x-python",
   "name": "python",
   "nbconvert_exporter": "python",
   "pygments_lexer": "ipython3",
   "version": "3.7.1"
  }
 },
 "nbformat": 4,
 "nbformat_minor": 2
}
